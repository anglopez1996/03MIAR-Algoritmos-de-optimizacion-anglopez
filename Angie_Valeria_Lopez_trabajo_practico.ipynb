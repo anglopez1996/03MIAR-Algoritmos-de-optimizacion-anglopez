{
  "nbformat": 4,
  "nbformat_minor": 0,
  "metadata": {
    "colab": {
      "provenance": [],
      "include_colab_link": true
    },
    "kernelspec": {
      "name": "python3",
      "display_name": "Python 3"
    }
  },
  "cells": [
    {
      "cell_type": "markdown",
      "metadata": {
        "id": "view-in-github",
        "colab_type": "text"
      },
      "source": [
        "<a href=\"https://colab.research.google.com/github/anglopez1996/03MIAR-Algoritmos-de-optimizacion-anglopez/blob/main/Angie_Valeria_Lopez_trabajo_practico.ipynb\" target=\"_parent\"><img src=\"https://colab.research.google.com/assets/colab-badge.svg\" alt=\"Open In Colab\"/></a>"
      ]
    },
    {
      "cell_type": "markdown",
      "metadata": {
        "id": "hVbXYX-RfPWh"
      },
      "source": [
        "# Algoritmos de optimización - Trabajo Práctico<br>\n",
        "Nombre y Apellidos: Angie Valeria López Echeverry  <br>\n",
        "Url: <br>\n",
        "Google Colab: https://colab.research.google.com/drive/1qHWtzelp4CqpqxTm1tJNHTbBY48uB7ph?usp=sharing  <br>\n",
        "Problema:\n",
        ">1. Sesiones de doblaje <br>\n",
        ">2. Organizar los horarios de partidos de La Liga<br>\n",
        ">3. Configuración de Tribunales\n",
        "\n",
        "\n",
        "# Sesiones de Doblaje:\n",
        "\n",
        "Se precisa coordinar el doblaje de una pelicula. Los actores del doblaje deben coincidir en las tomas en las que sus personajes aparecen juntos en las diferentes tomas. Los actores de doblaje cobran todos la misma cantidad por dia que deben desplazarse hasta el estudio de grabación independientemente del numero de tomas que se graben. No es posible grabar más de 6 tomas por día. El objetivo es planificar las sesiones por día de manera que el gasto por los servicios de los actores de doblaje sea el menor posible.\n",
        "\n",
        "\n",
        "\n",
        "\n",
        "\n",
        "\n",
        "                                        "
      ]
    },
    {
      "cell_type": "markdown",
      "source": [
        "#Modelo\n",
        "- ¿Como represento el espacio de soluciones?\n",
        "\n",
        "El espacio de soluciones representa todas las posibles combinaciones de asignaciones de tomas a días de grabación. En este caso, cada solución en el espacio es una posible distribución de todas las tomas entre los días disponibles, de tal manera que se respeten las restricciones del problema (por ejemplo, no más de 6 tomas por día y la necesidad de que los actores coincidan en las tomas en las que aparecen juntos).\n",
        "\n",
        "Una forma de representar una solución es mediante una lista en la que para cada dia se asocien los actores que se necesitan y de la misma manera para cada dia se asocien las tomas que se grabaran.\n",
        "\n",
        "- ¿Cual es la función objetivo?\n",
        "\n",
        "La función objetivo en este problema es minimizar el costo total de los servicios de los actores de doblaje. Dado que los actores cobran por día de desplazamiento al estudio, independientemente del número de tomas grabadas, la función objetivo se centra en minimizar el número total de días de actor que se requieran.\n",
        "\n",
        "- ¿Como implemento las restricciones?\n",
        "\n",
        "Para resolver este problema debemos considerar dos restricciones importantes, las cuales son el máximo de tomas por dias (en este caso son 6) y garantizar coincidencia de los actores para cada dia de grabación; de esta manera lograremos minimizar el numero de sesiones y por ende el costo.\n",
        "Para implementarlas podemos inicializar una lista vacia que vaya conteniendo las tomas que son asignadas para cada dia, al asignar las tomas se debe verificar que no se excedan al límite inicial. El esquema de datos inicial nos ayuda a implementar la segunda condición ya que es fácil determinar que actores son coincidentes entre tomas por medio de operaciones de conjuntos, tomando cada toma como un conjunto independiente y considerando los elementos del conjunto como el indice o indicador de los actores, así y con operaciones básicas entre conjuntos se puede determinar este punto.\n"
      ],
      "metadata": {
        "id": "Sbo9IqQtpaHZ"
      }
    },
    {
      "cell_type": "markdown",
      "source": [],
      "metadata": {
        "id": "67p_vszBposu"
      }
    },
    {
      "cell_type": "markdown",
      "source": [
        "#Análisis\n",
        "- ¿Que complejidad tiene el problema?. Orden de complejidad y Contabilizar el espacio de soluciones"
      ],
      "metadata": {
        "id": "HZz52wOppp-U"
      }
    },
    {
      "cell_type": "markdown",
      "source": [
        "Para problemas de asignación como el que estamos tratando, donde se deben asignar tomas a diferentes días con restricciones, la complejidad en el peor de los casos puede ser fácilmente confundida entre exponencial y factorial, dependiendo de cómo se enfoque el problema.\n",
        "\n",
        "Complejidad Factorial: Si consideramos cada toma como una \"elección\" que debe asignarse a un \"día\" de manera única, sin reutilizar días para diferentes tomas, estaríamos mirando una complejidad factorial $ O(n!) $\n",
        "donde, n es el número de tomas. Esto se debe a que la primera toma tendría n opciones de días para elegir, la siguiente toma tendría $n-1$ opciones (asumiendo que no podemos asignar dos tomas al mismo día), y así sucesivamente.\n",
        "\n",
        "Complejidad Exponencial: Si se permite que múltiples tomas se asignen al mismo día (hasta un máximo definido) que en este caso es 6, entonces cada toma tiene varias opciones (los días disponibles), y el número de combinaciones posibles de asignaciones puede crecer exponencialmente con el número de tomas. En este caso,  la complejidad seria exponencial\n",
        "\n",
        "Dada la naturaleza de este problema específico, donde hay un número máximo de tomas que se pueden asignar por día, pero no se restringe que diferentes tomas se asignen al mismo día, la complejidad tiende más hacia exponencial,\n",
        "$ O(m^n) $ donde m es el número de días disponibles y\n",
        "n es el número de tomas."
      ],
      "metadata": {
        "id": "xlWDV5bOiDU1"
      }
    },
    {
      "cell_type": "markdown",
      "source": [
        "#Diseño\n",
        "- ¿Que técnica utilizo? ¿Por qué?\n",
        "\n",
        "Para la solución de este problema he definido utilizar una técnica voraz, en la que además se implemente un criterio d eordenación básico definido con la intención de considerar primero las soluciones en las que intervenga la mayor cantidad todal de actores esto nos ayuda a definir el paso del algoritmo voraz que determina la \"mejor solución en ese momento\". Además se realiza una comparación y agrupación de tomas en la cual se iteran sobre las tomas que no se han elegido para encontrar las tomas que tienen actores en común con la toma seleccionada en la iteración actual considerando también la cantidad de actores que no son compartidos.\n",
        "\n",
        "Definí este enfoque porque se caracteriza por su simplicidad y eficiencia en términos de tiempo de ejecución, aunque es de considerar que no siempre garantiza la solución óptima global para el problema.\n",
        "\n",
        "A continuación muestro la implementación y los resultados obtenidos:"
      ],
      "metadata": {
        "id": "ixEJUwH_pv7M"
      }
    },
    {
      "cell_type": "code",
      "source": [
        "#cargamos las librerias y leeemos los datos\n",
        "import os\n",
        "import pandas as pd\n",
        "import numpy as np\n",
        "\n",
        "df = pd.read_csv('datos_doblaje_1.csv', sep = ';')\n",
        "print(df)"
      ],
      "metadata": {
        "id": "CZ-5BmpspttV",
        "colab": {
          "base_uri": "https://localhost:8080/"
        },
        "outputId": "ee4ebe8a-0940-40e0-cf77-ebf8bd54b3fe"
      },
      "execution_count": 44,
      "outputs": [
        {
          "output_type": "stream",
          "name": "stdout",
          "text": [
            "     Toma   1   2   3   4   5  6  7  8  9  10  Total\n",
            "0       1   1   1   1   1   1  0  0  0  0   0    5.0\n",
            "1       2   0   0   1   1   1  0  0  0  0   0    3.0\n",
            "2       3   0   1   0   0   1  0  1  0  0   0    3.0\n",
            "3       4   1   1   0   0   0  0  1  1  0   0    4.0\n",
            "4       5   0   1   0   1   0  0  0  1  0   0    3.0\n",
            "5       6   1   1   0   1   1  0  0  0  0   0    4.0\n",
            "6       7   1   1   0   1   1  0  0  0  0   0    4.0\n",
            "7       8   1   1   0   0   0  1  0  0  0   0    3.0\n",
            "8       9   1   1   0   1   0  0  0  0  0   0    3.0\n",
            "9      10   1   1   0   0   0  1  0  0  1   0    4.0\n",
            "10     11   1   1   1   0   1  0  0  1  0   0    5.0\n",
            "11     12   1   1   1   1   0  1  0  0  0   0    5.0\n",
            "12     13   1   0   0   1   1  0  0  0  0   0    3.0\n",
            "13     14   1   0   1   0   0  1  0  0  0   0    3.0\n",
            "14     15   1   1   0   0   0  0  1  0  0   0    3.0\n",
            "15     16   0   0   0   1   0  0  0  0  0   1    2.0\n",
            "16     17   1   0   1   0   0  0  0  0  0   0    2.0\n",
            "17     18   0   0   1   0   0  1  0  0  0   0    2.0\n",
            "18     19   1   0   1   0   0  0  0  0  0   0    2.0\n",
            "19     20   1   0   1   1   1  0  0  0  0   0    4.0\n",
            "20     21   0   0   0   0   0  1  0  1  0   0    2.0\n",
            "21     22   1   1   1   1   0  0  0  0  0   0    4.0\n",
            "22     23   1   0   1   0   0  0  0  0  0   0    2.0\n",
            "23     24   0   0   1   0   0  1  0  0  0   0    2.0\n",
            "24     25   1   1   0   1   0  0  0  0  0   1    4.0\n",
            "25     26   1   0   1   0   1  0  0  0  1   0    4.0\n",
            "26     27   0   0   0   1   1  0  0  0  0   0    2.0\n",
            "27     28   1   0   0   1   0  0  0  0  0   0    2.0\n",
            "28     29   1   0   0   0   1  1  0  0  0   0    3.0\n",
            "29     30   1   0   0   1   0  0  0  0  0   0    2.0\n",
            "30  TOTAL  22  14  13  15  11  8  3  4  2   2    NaN\n"
          ]
        }
      ]
    },
    {
      "cell_type": "code",
      "source": [
        "datos = df.loc[:, '1':'10'].replace(1, pd.Series(df.columns, df.columns))\n",
        "datos['Toma'] = df['Toma']\n",
        "datos['Total'] = df['Total']"
      ],
      "metadata": {
        "id": "78ub0kqCAZF0"
      },
      "execution_count": 45,
      "outputs": []
    },
    {
      "cell_type": "code",
      "source": [
        "print(datos)"
      ],
      "metadata": {
        "colab": {
          "base_uri": "https://localhost:8080/"
        },
        "id": "fI0iQ6CaBK8x",
        "outputId": "00391ce8-65ca-4f83-97ed-f595f9a8af92"
      },
      "execution_count": 46,
      "outputs": [
        {
          "output_type": "stream",
          "name": "stdout",
          "text": [
            "     1   2   3   4   5  6  7  8  9  10   Toma  Total\n",
            "0    1   2   3   4   5  0  0  0  0   0      1    5.0\n",
            "1    0   0   3   4   5  0  0  0  0   0      2    3.0\n",
            "2    0   2   0   0   5  0  7  0  0   0      3    3.0\n",
            "3    1   2   0   0   0  0  7  8  0   0      4    4.0\n",
            "4    0   2   0   4   0  0  0  8  0   0      5    3.0\n",
            "5    1   2   0   4   5  0  0  0  0   0      6    4.0\n",
            "6    1   2   0   4   5  0  0  0  0   0      7    4.0\n",
            "7    1   2   0   0   0  6  0  0  0   0      8    3.0\n",
            "8    1   2   0   4   0  0  0  0  0   0      9    3.0\n",
            "9    1   2   0   0   0  6  0  0  9   0     10    4.0\n",
            "10   1   2   3   0   5  0  0  8  0   0     11    5.0\n",
            "11   1   2   3   4   0  6  0  0  0   0     12    5.0\n",
            "12   1   0   0   4   5  0  0  0  0   0     13    3.0\n",
            "13   1   0   3   0   0  6  0  0  0   0     14    3.0\n",
            "14   1   2   0   0   0  0  7  0  0   0     15    3.0\n",
            "15   0   0   0   4   0  0  0  0  0  10     16    2.0\n",
            "16   1   0   3   0   0  0  0  0  0   0     17    2.0\n",
            "17   0   0   3   0   0  6  0  0  0   0     18    2.0\n",
            "18   1   0   3   0   0  0  0  0  0   0     19    2.0\n",
            "19   1   0   3   4   5  0  0  0  0   0     20    4.0\n",
            "20   0   0   0   0   0  6  0  8  0   0     21    2.0\n",
            "21   1   2   3   4   0  0  0  0  0   0     22    4.0\n",
            "22   1   0   3   0   0  0  0  0  0   0     23    2.0\n",
            "23   0   0   3   0   0  6  0  0  0   0     24    2.0\n",
            "24   1   2   0   4   0  0  0  0  0  10     25    4.0\n",
            "25   1   0   3   0   5  0  0  0  9   0     26    4.0\n",
            "26   0   0   0   4   5  0  0  0  0   0     27    2.0\n",
            "27   1   0   0   4   0  0  0  0  0   0     28    2.0\n",
            "28   1   0   0   0   5  6  0  0  0   0     29    3.0\n",
            "29   1   0   0   4   0  0  0  0  0   0     30    2.0\n",
            "30  22  14  13  15  11  8  3  4  2   2  TOTAL    NaN\n"
          ]
        }
      ]
    },
    {
      "cell_type": "code",
      "source": [
        "datos['en_comun'] = 0"
      ],
      "metadata": {
        "id": "7A_OaClrZ1g9"
      },
      "execution_count": 47,
      "outputs": []
    },
    {
      "cell_type": "code",
      "source": [
        "print(datos)"
      ],
      "metadata": {
        "colab": {
          "base_uri": "https://localhost:8080/"
        },
        "id": "2gbYL7hwZ26V",
        "outputId": "c61757f2-108e-4257-e38a-5d1f51842e5a"
      },
      "execution_count": 48,
      "outputs": [
        {
          "output_type": "stream",
          "name": "stdout",
          "text": [
            "     1   2   3   4   5  6  7  8  9  10   Toma  Total  en_comun\n",
            "0    1   2   3   4   5  0  0  0  0   0      1    5.0         0\n",
            "1    0   0   3   4   5  0  0  0  0   0      2    3.0         0\n",
            "2    0   2   0   0   5  0  7  0  0   0      3    3.0         0\n",
            "3    1   2   0   0   0  0  7  8  0   0      4    4.0         0\n",
            "4    0   2   0   4   0  0  0  8  0   0      5    3.0         0\n",
            "5    1   2   0   4   5  0  0  0  0   0      6    4.0         0\n",
            "6    1   2   0   4   5  0  0  0  0   0      7    4.0         0\n",
            "7    1   2   0   0   0  6  0  0  0   0      8    3.0         0\n",
            "8    1   2   0   4   0  0  0  0  0   0      9    3.0         0\n",
            "9    1   2   0   0   0  6  0  0  9   0     10    4.0         0\n",
            "10   1   2   3   0   5  0  0  8  0   0     11    5.0         0\n",
            "11   1   2   3   4   0  6  0  0  0   0     12    5.0         0\n",
            "12   1   0   0   4   5  0  0  0  0   0     13    3.0         0\n",
            "13   1   0   3   0   0  6  0  0  0   0     14    3.0         0\n",
            "14   1   2   0   0   0  0  7  0  0   0     15    3.0         0\n",
            "15   0   0   0   4   0  0  0  0  0  10     16    2.0         0\n",
            "16   1   0   3   0   0  0  0  0  0   0     17    2.0         0\n",
            "17   0   0   3   0   0  6  0  0  0   0     18    2.0         0\n",
            "18   1   0   3   0   0  0  0  0  0   0     19    2.0         0\n",
            "19   1   0   3   4   5  0  0  0  0   0     20    4.0         0\n",
            "20   0   0   0   0   0  6  0  8  0   0     21    2.0         0\n",
            "21   1   2   3   4   0  0  0  0  0   0     22    4.0         0\n",
            "22   1   0   3   0   0  0  0  0  0   0     23    2.0         0\n",
            "23   0   0   3   0   0  6  0  0  0   0     24    2.0         0\n",
            "24   1   2   0   4   0  0  0  0  0  10     25    4.0         0\n",
            "25   1   0   3   0   5  0  0  0  9   0     26    4.0         0\n",
            "26   0   0   0   4   5  0  0  0  0   0     27    2.0         0\n",
            "27   1   0   0   4   0  0  0  0  0   0     28    2.0         0\n",
            "28   1   0   0   0   5  6  0  0  0   0     29    3.0         0\n",
            "29   1   0   0   4   0  0  0  0  0   0     30    2.0         0\n",
            "30  22  14  13  15  11  8  3  4  2   2  TOTAL    NaN         0\n"
          ]
        }
      ]
    },
    {
      "cell_type": "code",
      "source": [
        "def algoritmo_voraz(datos):\n",
        "    for j in range(len(datos)):\n",
        "        max_Actores = (datos.loc[datos['Total'] >= max(datos['Total'])].index.tolist())\n",
        "        posicion = max_Actores[0]\n",
        "        first_list = datos.loc[posicion, '1':'10'].values.flatten().tolist()\n",
        "        primerdia = []\n",
        "        tomas = list()\n",
        "\n",
        "        for i in range(len(datos) - 1):\n",
        "            second_list = datos.loc[i, '1':'10'].values.flatten().tolist()\n",
        "            interseccion = (set(second_list).intersection(set(first_list)))\n",
        "            interseccion.remove(0)\n",
        "            not_intersecction = list(set(second_list) ^ set(first_list))\n",
        "\n",
        "            if interseccion != {0}:\n",
        "                datos.loc[i, 'en_comun'] = len(interseccion)\n",
        "            else:\n",
        "                datos.loc[i, 'en_comun'] = 0\n",
        "            if (set(second_list).issubset(set(first_list)) == True or (len(not_intersecction) <= 5)) and len(tomas) < 6:\n",
        "                primerdia = primerdia + not_intersecction\n",
        "                tomas = tomas + [datos['Toma'][i]]\n",
        "\n",
        "        Actores = list(np.unique((first_list + primerdia)))\n",
        "        Tomas = list(np.unique(tomas))\n",
        "        Actores.remove('0')\n",
        "        print('Actores', j + 1, 'día son:', Actores)\n",
        "        print('Tomas asociadas a los actores anteriores el', j + 1, 'día son:', Tomas)\n",
        "\n",
        "        index = datos[datos['Toma'].isin(tomas)].index\n",
        "        datos.drop(index, inplace=True)\n",
        "        datos = datos.reset_index()\n",
        "        datos = datos.loc[:, '1':'Total']\n",
        "\n",
        "        if len(datos) == 1: #Es porque hay una fila de total\n",
        "            break\n",
        "\n",
        "algoritmo_voraz(datos)\n",
        "\n"
      ],
      "metadata": {
        "colab": {
          "base_uri": "https://localhost:8080/"
        },
        "id": "pcVMSICoZ9_W",
        "outputId": "87e222c0-2542-4324-a403-70f86a5934f8"
      },
      "execution_count": 49,
      "outputs": [
        {
          "output_type": "stream",
          "name": "stdout",
          "text": [
            "Actores 1 día son: ['1', '2', '3', '4', '5', '7', '8']\n",
            "Tomas asociadas a los actores anteriores el 1 día son: ['1', '2', '3', '4', '5', '6']\n",
            "Actores 2 día son: ['1', '2', '3', '4', '5', '6', '8', '9']\n",
            "Tomas asociadas a los actores anteriores el 2 día son: ['10', '11', '12', '7', '8', '9']\n",
            "Actores 3 día son: ['1', '10', '2', '3', '4', '5', '6', '7']\n",
            "Tomas asociadas a los actores anteriores el 3 día son: ['13', '14', '15', '16', '17', '18']\n",
            "Actores 4 día son: ['1', '10', '2', '3', '4', '5', '6']\n",
            "Tomas asociadas a los actores anteriores el 4 día son: ['19', '20', '22', '23', '24', '25']\n",
            "Actores 5 día son: ['1', '3', '4', '5', '6', '9']\n",
            "Tomas asociadas a los actores anteriores el 5 día son: ['26', '27', '28', '29', '30']\n",
            "Actores 6 día son: ['6', '8']\n",
            "Tomas asociadas a los actores anteriores el 6 día son: ['21']\n"
          ]
        }
      ]
    },
    {
      "cell_type": "code",
      "source": [],
      "metadata": {
        "id": "ZdKPjB9gp2BA"
      },
      "execution_count": null,
      "outputs": []
    }
  ]
}